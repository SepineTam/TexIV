{
 "cells": [
  {
   "cell_type": "code",
   "execution_count": null,
   "id": "initial_id",
   "metadata": {
    "collapsed": true
   },
   "outputs": [],
   "source": [
    "from typing import List\n",
    "\n",
    "from texiv import TexIV\n",
    "import pandas as pd\n"
   ]
  },
  {
   "metadata": {},
   "cell_type": "code",
   "outputs": [],
   "execution_count": null,
   "source": [
    "# Load the dataset\n",
    "data_path = \"../data/shanghai_reports.dta\"\n",
    "df: pd.DataFrame = pd.read_stata(data_path)\n",
    "\n",
    "kws: List[str] = [\"数字经济\", \"物联网\", \"科技创新\", \"数字中国\", \"数字化转型\", \n",
    "                  \"数字化\", \"数字经济发展\", \"数字经济产业\", \"数字经济建设\"]\n",
    "\n",
    "# Initialize TexIV\n",
    "texiv = TexIV()"
   ],
   "id": "4e69bcb9f7f64592"
  },
  {
   "metadata": {},
   "cell_type": "code",
   "outputs": [],
   "execution_count": null,
   "source": [
    "# Process and save results\n",
    "after_texiv_df: pd.DataFrame = texiv.texiv_df(df, \"report\", kws)\n",
    "after_texiv_df.to_csv(\"../data/shanghai_reports_texiv.csv\", index=False)\n"
   ],
   "id": "28f54218aa57fc90"
  }
 ],
 "metadata": {
  "kernelspec": {
   "display_name": "Python 3",
   "language": "python",
   "name": "python3"
  },
  "language_info": {
   "codemirror_mode": {
    "name": "ipython",
    "version": 2
   },
   "file_extension": ".py",
   "mimetype": "text/x-python",
   "name": "python",
   "nbconvert_exporter": "python",
   "pygments_lexer": "ipython2",
   "version": "2.7.6"
  }
 },
 "nbformat": 4,
 "nbformat_minor": 5
}
